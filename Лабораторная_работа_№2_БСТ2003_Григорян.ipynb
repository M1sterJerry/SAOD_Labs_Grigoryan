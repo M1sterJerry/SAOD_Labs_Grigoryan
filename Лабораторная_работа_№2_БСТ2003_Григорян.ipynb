{
 "cells": [
  {
   "cell_type": "markdown",
   "id": "6745d8db",
   "metadata": {},
   "source": [
    "# Лабораторная работа №2\n",
    "## Выполнил студент группы БСТ2003 Григорян Арсен Григорович\n",
    "Реализовать методы поиска в соответствии с заданием. Организовать генерацию начального набора случайных данных. Для всех вариантов добавить реализацию добавления, поиска и удаления элементов. Оценить время работы каждого алгоритма поиска и сравнить его со временем работы стандартной функции поиска, используемой в выбранном языке программирования."
   ]
  },
  {
   "cell_type": "code",
   "execution_count": 1,
   "id": "5c60d077",
   "metadata": {},
   "outputs": [],
   "source": [
    "from random import randint\n",
    "import time\n",
    "import copy\n",
    "import math\n",
    "import random"
   ]
  },
  {
   "cell_type": "markdown",
   "id": "900b76df",
   "metadata": {},
   "source": [
    "### Задание №1 "
   ]
  },
  {
   "cell_type": "code",
   "execution_count": 2,
   "id": "da4b7027",
   "metadata": {},
   "outputs": [],
   "source": [
    "# Генерация матрицы и её сортировка\n",
    "def M_create(Q_ans):\n",
    "    if Q_ans == \"Да\" or Q_ans == \"да\":\n",
    "        matrix = [];\n",
    "        n = int(input('Укажите количество элементов в массиве: '))\n",
    "        min_limit = int(input(\"Укажите начальный диапозон чисел для генерации: \"))\n",
    "        max_limit = int(input(\"Укажите конечный диапозон чисел для генерации: \"))\n",
    "        for i in range(n):\n",
    "            matrix.append(randint(min_limit, max_limit))\n",
    "        matrix.sort()\n",
    "        return matrix"
   ]
  },
  {
   "cell_type": "code",
   "execution_count": 3,
   "id": "3cd01242",
   "metadata": {},
   "outputs": [],
   "source": [
    "# Бинарная поиск\n",
    "def BinarySearch(mas, val):\n",
    "    first = 0\n",
    "    last = len(mas)-1\n",
    "    index = -1\n",
    "    while (first <= last) and (index == -1):\n",
    "        mid = (first+last)//2\n",
    "        if mas[mid] == val:\n",
    "            index = mid\n",
    "        else:\n",
    "            if val<mas[mid]:\n",
    "                last = mid -1\n",
    "            else:\n",
    "                first = mid +1\n",
    "    return index"
   ]
  },
  {
   "cell_type": "code",
   "execution_count": 4,
   "id": "3f0e3b55",
   "metadata": {},
   "outputs": [],
   "source": [
    "# Фибоначчиев поиск\n",
    "def FibonacciSearch(mas, val):\n",
    "    fibM_minus_2 = 0\n",
    "    fibM_minus_1 = 1\n",
    "    fibM = fibM_minus_1 + fibM_minus_2\n",
    "    while (fibM < len(mas)):\n",
    "        fibM_minus_2 = fibM_minus_1\n",
    "        fibM_minus_1 = fibM\n",
    "        fibM = fibM_minus_1 + fibM_minus_2\n",
    "    index = -1\n",
    "    while (fibM > 1):\n",
    "        i = min(index + fibM_minus_2, (len(mas)-1))\n",
    "        if (mas[i] < val):\n",
    "            fibM = fibM_minus_1\n",
    "            fibM_minus_1 = fibM_minus_2\n",
    "            fibM_minus_2 = fibM - fibM_minus_1\n",
    "            index = i\n",
    "        elif (mas[i] > val):\n",
    "            fibM = fibM_minus_2\n",
    "            fibM_minus_1 = fibM_minus_1 - fibM_minus_2\n",
    "            fibM_minus_2 = fibM - fibM_minus_1\n",
    "        else :\n",
    "            return i\n",
    "    if(fibM_minus_1 and index < (len(mas)-1) and mas[index+1] == val):\n",
    "        return index+1\n",
    "    return -1"
   ]
  },
  {
   "cell_type": "code",
   "execution_count": 5,
   "id": "b648794e",
   "metadata": {},
   "outputs": [],
   "source": [
    "# Интерполяционный поиск\n",
    "def InterpolationSearch(mas, val):\n",
    "    low = 0\n",
    "    high = (len(mas) - 1)\n",
    "    while low <= high and val >= mas[low] and val <= mas[high]:\n",
    "        index = low + int(((float(high - low) / (mas[high] - mas[low])) * (val - mas[low])))\n",
    "        if mas[index] == val:\n",
    "            return index\n",
    "        if mas[index] < val:\n",
    "            low = index + 1;\n",
    "        else:\n",
    "            high = index - 1;\n",
    "    return -1"
   ]
  },
  {
   "cell_type": "code",
   "execution_count": 6,
   "id": "e5977d12",
   "metadata": {},
   "outputs": [],
   "source": [
    "def generate_array(length=100):  # генерируем случайный массив\n",
    "    array = []\n",
    "    while len(array) < length:\n",
    "        array.append(random.randint(0, 100))\n",
    "    return array\n",
    "#для хэша\n",
    "class ClassForRehash:\n",
    "    def __init__(self, value1):\n",
    "        self.value1 = value1\n",
    "        self.hash = int((((value1 % ClassForRehash.MAX_HASH_TABLE) * 331) & 127) % ClassForRehash.MAX_HASH_TABLE)\n",
    "        self.hashh = int(value1)\n",
    "\n",
    "    MAX_HASH_TABLE = 8"
   ]
  },
  {
   "cell_type": "markdown",
   "id": "6b87c339",
   "metadata": {},
   "source": [
    "### Задание №2"
   ]
  },
  {
   "cell_type": "code",
   "execution_count": 7,
   "id": "a6b26bb0",
   "metadata": {},
   "outputs": [
    {
     "name": "stdout",
     "output_type": "stream",
     "text": [
      "объект со значением 6 имеет хэш: 2 (рехеширование не требовалось)\n",
      "объект со значением 4 имеет хэш: 4 (рехеширование не требовалось)\n",
      "объект со значением 7 имеет хэш: 5 (рехеширование не требовалось)\n",
      "объект со значением 0 имеет хэш: 0 (рехеширование не требовалось)\n",
      "объект со значением 1 имеет хэш: 3 (рехеширование не требовалось)\n",
      "объект со значением 3 имеет хэш: 1 (рехеширование не требовалось)\n",
      "объект со значением 0 имеет хэш: 6 (рехешировано. коллизия была в хеше: 0)\n",
      "объект со значением 1 имеет хэш: 7 (рехешировано. коллизия была в хеше: 3)\n",
      "таблица заполнена!\n",
      "таблица заполнена!\n"
     ]
    }
   ],
   "source": [
    "# Простое рехэширование\n",
    "class SimpleRehashTable:\n",
    "\n",
    "    def __init__(self, length):\n",
    "        self.table = [None] * length\n",
    "\n",
    "    def add_el(self, element):\n",
    "        original_hash = element.hash\n",
    "        if self.table[original_hash] is None:\n",
    "            self.table[original_hash] = element\n",
    "            print(\"объект со значением %i имеет хэш: %i (рехеширование не требовалось)\"\n",
    "                  % (self.table[original_hash].value1, element.hash))\n",
    "            return\n",
    "\n",
    "        \"\"\"\"\"\n",
    "        простое рехеширование\n",
    "        \"\"\"\"\"\n",
    "        new_hash = original_hash + 1\n",
    "        while new_hash != original_hash:\n",
    "            if new_hash >= len(self.table):\n",
    "                new_hash = 0\n",
    "                continue\n",
    "            if self.table[new_hash] is None:\n",
    "                element.hash = new_hash\n",
    "                self.table[new_hash] = element\n",
    "                print(\"объект со значением %i имеет хэш: %i (рехешировано. коллизия была в хеше: %i)\"\n",
    "                      % (self.table[new_hash].value1, element.hash, original_hash))\n",
    "                return\n",
    "            new_hash += 1\n",
    "        print(\"таблица заполнена!\")\n",
    "        return\n",
    "#вывод\n",
    "simple_re = SimpleRehashTable(ClassForRehash.MAX_HASH_TABLE)\n",
    "for i in range(len(simple_re.table) + 2):\n",
    "    simple_re.add_el(ClassForRehash(random.randint(0, 8)))\n"
   ]
  },
  {
   "cell_type": "code",
   "execution_count": null,
   "id": "cc048a12",
   "metadata": {},
   "outputs": [],
   "source": [
    "#Рехэширование с помощью псевдослучайных чисел\n",
    "class RandomRehashTable:\n",
    "\n",
    "    def __init__(self, length):\n",
    "        self.table = [None] * length\n",
    "\n",
    "    def add_el(self, element):\n",
    "        original_hash = element.hash\n",
    "        if self.table[original_hash] is None:\n",
    "            self.table[original_hash] = element\n",
    "            print(\"объект со значением %i имеет хэш: %i (рехеширование не требовалось)\"\n",
    "                  % (self.table[original_hash].value1, original_hash))\n",
    "            return\n",
    "\n",
    "        \"\"\"\"\"\n",
    "        Рехэширование с помощью псевдослучайных чисел\n",
    "        \"\"\"\"\"\n",
    "        table_len = len(self.table)\n",
    "        r = 1\n",
    "        for ii in range(10):  # range(число попыток определить новый хеш)\n",
    "            r *= 5\n",
    "            r = r % (4 * table_len)\n",
    "            new_hash = r // 4\n",
    "            if self.table[new_hash] is None:\n",
    "                element.hash = new_hash\n",
    "                self.table[new_hash] = element\n",
    "                print(\"объект со значением %i имеет хэш: %i (рехешировано. коллизия была в хеше: %i)\"\n",
    "                      % (self.table[new_hash].value1, element.hash, original_hash))\n",
    "                return\n",
    "        print(\"Не удалось найти свободный хеш в таблице!\")\n",
    "        return"
   ]
  },
  {
   "cell_type": "code",
   "execution_count": null,
   "id": "e3f589f3",
   "metadata": {},
   "outputs": [],
   "source": [
    "#метод цепочек\n",
    "class ChainRehashTable:\n",
    "\n",
    "    def __init__(self, length):\n",
    "        self.table = [None] * length\n",
    "    def add_el(self, element):\n",
    "        \"\"\"\"\"\n",
    "        метод цепочек\n",
    "        \"\"\"\"\"\n",
    "        original_hash = element.hashh\n",
    "        print(element.hashh)\n",
    "        if self.table[original_hash] is None:\n",
    "            self.table[original_hash] = [element]\n",
    "            return\n",
    "        else:\n",
    "            self.table[original_hash].append(element)\n",
    "            return"
   ]
  },
  {
   "cell_type": "code",
   "execution_count": null,
   "id": "7b7df126",
   "metadata": {},
   "outputs": [],
   "source": [
    "Q_ans = input(\"Хотите ли вы указать параметр матрицы Да/Нет? \")\n",
    "matrix = M_create(Q_ans)\n",
    "print(\"Сгененированная матрица:\")\n",
    "print(matrix)"
   ]
  },
  {
   "cell_type": "code",
   "execution_count": null,
   "id": "c1b96176",
   "metadata": {},
   "outputs": [],
   "source": [
    "k = input(\"Введите номер элемента: \" )\n",
    "u = int(k)"
   ]
  },
  {
   "cell_type": "code",
   "execution_count": null,
   "id": "342ef5a2",
   "metadata": {},
   "outputs": [],
   "source": [
    "print(BinarySearch(matrix, u))"
   ]
  },
  {
   "cell_type": "code",
   "execution_count": null,
   "id": "38116362",
   "metadata": {},
   "outputs": [],
   "source": [
    "print(FibonacciSearch(matrix, u))"
   ]
  },
  {
   "cell_type": "code",
   "execution_count": null,
   "id": "466ac2dd",
   "metadata": {},
   "outputs": [],
   "source": [
    "print(InterpolationSearch(matrix, u))"
   ]
  },
  {
   "cell_type": "markdown",
   "id": "e164a421",
   "metadata": {},
   "source": [
    "### Задание №3\n",
    "Расставить на стандартной 64-клеточной шахматной доске 8 ферзей так, чтобы ни один из них не находился под боем другого». Подразумевается, что ферзь бьёт все клетки, расположенные по вертикалям, горизонталям и обеим диагоналям. Написать программу,  которая находит хотя бы один способ решения задач."
   ]
  },
  {
   "cell_type": "code",
   "execution_count": null,
   "id": "6b143891",
   "metadata": {},
   "outputs": [],
   "source": [
    "board = [[0 for i in range (8)]for j in range(8)]\n",
    "cnt = 0\n",
    "def setQueen(i, j):\n",
    "  for x in range(8):\n",
    "    board[x][j] += 1\n",
    "    board[i][x] += 1\n",
    "    if 0 <= i + j - x < 8:\n",
    "      board[i + j - x][x] += 1\n",
    "    if 0 <= i - j + x < 8:\n",
    "      board[i - j +x][x] += 1\n",
    "  board[i][j] = -1\n",
    "\n",
    "def removeQueen(i, j):\n",
    "  for x in range(8):\n",
    "    board[x][j] -= 1\n",
    "    board[i][x] -= 1\n",
    "    if 0 <= i + j - x < 8:\n",
    "      board[i + j - x][x] -= 1\n",
    "    if 0 <= i - j + x < 8:\n",
    "      board[i - j +x][x] -= 1\n",
    "  board[i][j] = 0\n",
    "\n",
    "def printPosition():\n",
    "  global cnt\n",
    "  cnt += 1\n",
    "  abc = \"abcdefgh\"\n",
    "  ans = []\n",
    "  for i in range(8):\n",
    "    for j in range(8):\n",
    "      if board[i][j] == -1:\n",
    "        ans.append(abc[j] + str(i+1))\n",
    "  print(\", \".join(ans))\n",
    "\n",
    "def solve(i):\n",
    "  for j in range(8):\n",
    "    if board[i][j] == 0:\n",
    "      setQueen(i, j)\n",
    "      if i == 7:\n",
    "        printPosition()\n",
    "      else:\n",
    "        solve(i + 1)\n",
    "      removeQueen(i, j)\n",
    "\n",
    "solve(0)"
   ]
  },
  {
   "cell_type": "code",
   "execution_count": null,
   "id": "70193c73",
   "metadata": {},
   "outputs": [],
   "source": [
    "print(cnt)"
   ]
  },
  {
   "cell_type": "code",
   "execution_count": null,
   "id": "cbf1d24b",
   "metadata": {},
   "outputs": [],
   "source": []
  },
  {
   "cell_type": "code",
   "execution_count": null,
   "id": "7a36b692",
   "metadata": {},
   "outputs": [],
   "source": []
  }
 ],
 "metadata": {
  "kernelspec": {
   "display_name": "Python 3 (ipykernel)",
   "language": "python",
   "name": "python3"
  },
  "language_info": {
   "codemirror_mode": {
    "name": "ipython",
    "version": 3
   },
   "file_extension": ".py",
   "mimetype": "text/x-python",
   "name": "python",
   "nbconvert_exporter": "python",
   "pygments_lexer": "ipython3",
   "version": "3.10.2"
  }
 },
 "nbformat": 4,
 "nbformat_minor": 5
}
