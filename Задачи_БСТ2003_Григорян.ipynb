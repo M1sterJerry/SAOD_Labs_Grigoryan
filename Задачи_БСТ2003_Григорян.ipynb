{
 "cells": [
  {
   "cell_type": "markdown",
   "id": "989393bf",
   "metadata": {},
   "source": [
    "# Контрольные задачи \n",
    "### Выполнил студент группы БСТ2003 Григорян Арсен"
   ]
  },
  {
   "cell_type": "markdown",
   "id": "70fe1cd4",
   "metadata": {},
   "source": [
    "Импорт необходимых элементов"
   ]
  },
  {
   "cell_type": "code",
   "execution_count": 6,
   "id": "fad61fcb",
   "metadata": {},
   "outputs": [],
   "source": [
    "from collections import defaultdict"
   ]
  },
  {
   "cell_type": "markdown",
   "id": "13db43d3",
   "metadata": {},
   "source": [
    "### Задача 1. «Треугольник с максимальным периметром»\n",
    "Массив A состоит из целых положительных чисел длин\n",
    "отрезков. Составьте из трех отрезков\n",
    "такой треугольник, чтобы его периметр был максимально возможным. Если невозможно\n",
    "составить треугольник с положительной площадью функция\n",
    "возвращает 0."
   ]
  },
  {
   "cell_type": "code",
   "execution_count": 30,
   "id": "84bb2386",
   "metadata": {},
   "outputs": [
    {
     "name": "stdout",
     "output_type": "stream",
     "text": [
      "Максимально возможный периметр треугольника при [2, 1, 2]:  5\n",
      "Максимально возможный периметр треугольника при [1, 2, 1]:  0\n",
      "Максимально возможный периметр треугольника при [3, 2, 3, 4]:  10\n",
      "Максимально возможный периметр треугольника при [3, 6, 2, 3]:  8\n"
     ]
    }
   ],
   "source": [
    "def Triangle(storona):\n",
    "    \n",
    "    sortstorona = sorted(storona, reverse = True)\n",
    "    \n",
    "    for i in range(len(sortstorona) - 2):\n",
    "        \n",
    "        storona_1 = sortstorona[i]\n",
    "        storona_2 = sortstorona[i + 1]\n",
    "        storona_3 = sortstorona[i + 2]\n",
    "        \n",
    "        if storona_1 + storona_2 > storona_3 and storona_1 + storona_3 > storona_2 and storona_2 + storona_3 > storona_1:\n",
    "            \n",
    "            perimetr = storona_1 + storona_2 + storona_3\n",
    "            \n",
    "            return perimetr\n",
    "        \n",
    "    return 0\n",
    "\n",
    "try1 = Triangle([2, 1, 2])\n",
    "print(\"Максимально возможный периметр треугольника при [2, 1, 2]: \", try1)\n",
    "\n",
    "try2 = Triangle([1, 2, 1])\n",
    "print(\"Максимально возможный периметр треугольника при [1, 2, 1]: \", try2)\n",
    "\n",
    "try3 = Triangle([3, 2, 3, 4])\n",
    "print(\"Максимально возможный периметр треугольника при [3, 2, 3, 4]: \", try3)\n",
    "\n",
    "try4 =  Triangle([3, 6, 2, 3])\n",
    "print(\"Максимально возможный периметр треугольника при [3, 6, 2, 3]: \", try4)"
   ]
  },
  {
   "cell_type": "markdown",
   "id": "fbb1f231",
   "metadata": {},
   "source": [
    "### Задача 2. «Максимальное число»\n",
    "Дан массив неотрицательных целых чисел nums. Расположите их в таком порядке, чтобы\n",
    "вместе они образовали максимально возможное число.\n",
    "Замечание: Результат может быть очень большим числом, поэтому представьте его как\n",
    "string, а не integer."
   ]
  },
  {
   "cell_type": "code",
   "execution_count": 33,
   "id": "70d9136d",
   "metadata": {},
   "outputs": [
    {
     "name": "stdout",
     "output_type": "stream",
     "text": [
      "Максимальное число при [10,2]:  210\n",
      "Максимальное число при [3, 30, 34, 5, 9]:  9534303\n",
      "Максимальное число при [1]:  1\n",
      "Максимальное число при [10]:  10\n"
     ]
    }
   ],
   "source": [
    "def MaxChislo(chisla):\n",
    "\n",
    "    res = ''\n",
    "\n",
    "    chsiloStroka = sorted([str(i) for i in chisla], reverse = True)\n",
    "\n",
    "    for i in range(len(chsiloStroka) - 1):\n",
    "\n",
    "        a = chsiloStroka[i]\n",
    "        b = chsiloStroka[i + 1]\n",
    "\n",
    "        if a + b < b + a:\n",
    "            a, b = b, a\n",
    "\n",
    "    for chislo in chsiloStroka:\n",
    "        res += chislo\n",
    "\n",
    "    return (res)\n",
    "\n",
    "try1 = MaxChislo([10,2])\n",
    "print(\"Максимальное число при [10,2]: \", try1)\n",
    "\n",
    "try2 = MaxChislo([3, 30, 34, 5, 9])\n",
    "print(\"Максимальное число при [3, 30, 34, 5, 9]: \", try2)\n",
    "\n",
    "try3 = MaxChislo([1])\n",
    "print(\"Максимальное число при [1]: \", try3)\n",
    "\n",
    "try4 = MaxChislo([10])\n",
    "print(\"Максимальное число при [10]: \", try4)"
   ]
  },
  {
   "cell_type": "markdown",
   "id": "904b1897",
   "metadata": {},
   "source": [
    "### Задача 3. «Сортировка диагоналей в матрице»\n",
    "Дана матрица mat размером m * n, значения целочисленные.\n",
    "Напишите функцию, сортирующую\n",
    "каждую диагональ матрицы по возрастанию и возвращающую получившуюся матрицу."
   ]
  },
  {
   "cell_type": "code",
   "execution_count": 34,
   "id": "a17b7041",
   "metadata": {},
   "outputs": [
    {
     "name": "stdout",
     "output_type": "stream",
     "text": [
      "Отсортированные диагонали матрицы:  [[1, 1, 1, 1], [1, 2, 2, 2], [1, 2, 3, 3]]\n",
      "Отсортированные диагонали матрицы:  [[5, 17, 4, 1, 52, 7], [11, 11, 25, 45, 8, 69], [14, 23, 25, 44, 58, 15], [22, 27, 31, 36, 50, 66], [84, 28, 75, 33, 55, 68]]\n"
     ]
    }
   ],
   "source": [
    "def SortDiagonal(matrix):\n",
    "    \n",
    "    diag = defaultdict(list)\n",
    "    \n",
    "    for stroka in range(len(matrix)):\n",
    "        \n",
    "        for stolbec in range(len(matrix[0])):\n",
    "            \n",
    "            diag[stroka-stolbec].append(matrix[stroka][stolbec])\n",
    "            \n",
    "    for i in diag:\n",
    "        \n",
    "        diag[i].sort()\n",
    "        \n",
    "    for stroka in range(len(matrix)):\n",
    "        \n",
    "        for stolbec in range(len(matrix[0])):\n",
    "            \n",
    "            matrix[stroka][stolbec] = diag[stroka-stolbec].pop(0)\n",
    "            \n",
    "    return matrix\n",
    "\n",
    "try1 = SortDiagonal([[3, 3, 1, 1], [2, 2, 1, 2], [1, 1, 1, 2]])\n",
    "print(\"Отсортированные диагонали матрицы: \", try1)\n",
    "\n",
    "try2 = SortDiagonal([[11, 25, 66, 1, 69, 7], [23, 55, 17, 45, 15, 52], [75, 31, 36, 44, 58, 8], [22, 27, 33, 25, 68, 4], [84, 28, 14,11, 5, 50]])\n",
    "print(\"Отсортированные диагонали матрицы: \", try2)"
   ]
  }
 ],
 "metadata": {
  "kernelspec": {
   "display_name": "Python 3 (ipykernel)",
   "language": "python",
   "name": "python3"
  },
  "language_info": {
   "codemirror_mode": {
    "name": "ipython",
    "version": 3
   },
   "file_extension": ".py",
   "mimetype": "text/x-python",
   "name": "python",
   "nbconvert_exporter": "python",
   "pygments_lexer": "ipython3",
   "version": "3.10.2"
  }
 },
 "nbformat": 4,
 "nbformat_minor": 5
}
