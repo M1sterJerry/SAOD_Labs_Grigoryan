{
 "cells": [
  {
   "cell_type": "markdown",
   "id": "b316e896",
   "metadata": {},
   "source": [
    "# Лабораторная работа №5\n",
    "## Выполнил студент группы БСТ2003 Григорян Арсен Григорович"
   ]
  },
  {
   "cell_type": "code",
   "execution_count": 1,
   "id": "5d49d7f8",
   "metadata": {},
   "outputs": [],
   "source": [
    "import turtle\n",
    "import time"
   ]
  },
  {
   "cell_type": "code",
   "execution_count": 2,
   "id": "d48365de",
   "metadata": {},
   "outputs": [],
   "source": [
    "turtle.speed(0)\n",
    "def sierpinski_carpet(n, m):\n",
    "    if n == 0:\n",
    "        turtle.color('blue')\n",
    "        turtle.begin_fill()\n",
    "        for _ in range(4):\n",
    "            turtle.forward(m)\n",
    "            turtle.left(90)\n",
    "        turtle.end_fill()\n",
    "\n",
    "    else:\n",
    "        for _ in range(4):\n",
    "            sierpinski_carpet(n - 1, m / 3)\n",
    "            turtle.forward(m / 3)\n",
    "            sierpinski_carpet(n - 1, m / 3)\n",
    "            turtle.forward(m / 3)\n",
    "            turtle.forward(m / 3)\n",
    "            turtle.left(90)"
   ]
  },
  {
   "cell_type": "code",
   "execution_count": 3,
   "id": "2824d001",
   "metadata": {},
   "outputs": [
    {
     "name": "stdout",
     "output_type": "stream",
     "text": [
      "Введите глубину рекурсии: 3\n",
      "Время выполнения: 4.576186418533325\n"
     ]
    }
   ],
   "source": [
    "n = int(input(\"Введите глубину рекурсии: \"))\n",
    "start_time = time.time()\n",
    "turtle.tracer(10)\n",
    "sierpinski_carpet(n, 300)\n",
    "end_time = time.time() - start_time\n",
    "print(f\"Время выполнения: {end_time}\")\n",
    "turtle.done()"
   ]
  }
 ],
 "metadata": {
  "kernelspec": {
   "display_name": "Python 3 (ipykernel)",
   "language": "python",
   "name": "python3"
  },
  "language_info": {
   "codemirror_mode": {
    "name": "ipython",
    "version": 3
   },
   "file_extension": ".py",
   "mimetype": "text/x-python",
   "name": "python",
   "nbconvert_exporter": "python",
   "pygments_lexer": "ipython3",
   "version": "3.10.2"
  }
 },
 "nbformat": 4,
 "nbformat_minor": 5
}
